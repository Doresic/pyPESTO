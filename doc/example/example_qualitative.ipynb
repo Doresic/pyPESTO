{
 "cells": [
  {
   "cell_type": "markdown",
   "metadata": {},
   "source": [
    "# Parameter estimation using qualitative data"
   ]
  },
  {
   "cell_type": "markdown",
   "metadata": {},
   "source": [
    "This Notebook eplains the use of qualitative data for parameter estimation, as described in [Schmiester et al. (2020)](https://link.springer.com/article/10.1007/s00285-020-01522-w) and [Schmiester et al. (2021)](https://www.biorxiv.org/content/10.1101/2021.02.06.430039v1.abstract)."
   ]
  },
  {
   "cell_type": "markdown",
   "metadata": {},
   "source": [
    "## Specification of qualitative data in the PEtab format"
   ]
  },
  {
   "cell_type": "markdown",
   "metadata": {},
   "source": [
    "The qualitative data can be specified as a non-standard extension to [PEtab](https://journals.plos.org/ploscompbiol/article?rev=2&id=10.1371/journal.pcbi.1008646). Categories can be defined as observable Parameters. Datapoints can be collected into categories by assigning the same `observableParameters` in the measurement file. In the following example, we have measurements at the first two timepoints belonging to category 1 and a measurement at a third timepoint belonging to category 2:\n",
    "\n",
    "| observableId | simulationConditionId | measurement | time | observableParameters |\n",
    "|--------------|-----------------------|-------------|------|----------------------|\n",
    "| observable_1 | condition_1           |          1   | 1    | category_1           |\n",
    "| observable_1 | condition_1           |          1   | 2    | category_1           |\n",
    "| observable_1 | condition_1           |          2   | 3    | category_2           |\n",
    "\n",
    "pyPESTO recognizes these parameters as optimal scaling categories via the `parameterType`, `parameterGroup` and `parameterCategory` columns in the parameters file. The parameters file then looks like (we only show the columns important for qualitative data here):\n",
    "\n",
    "| parameterId | estimate | hierarchicalOptimization | parameterType       | parameterGroup | parameterCategory |\n",
    "|-------------|----------|--------------------------|---------------------|----------------|-------------------|\n",
    "| parameter_1 | 1        | 0                        |                     |                |                   |\n",
    "| category_1  | 1        | 1                        | qualitative_scaling | 1              | 1                 |\n",
    "| category_2  | 1        | 1                        | qualitative_scaling | 1              | 2                 |\n",
    "\n",
    "`parameterType=qualitative_scaling` identifies the parameter as an optimal scaling parameter. The `parameterGroup` is an integer, specifying if these parameters are comparable or from different qualitative datasets, where no qualitative relation is known between them (e.g. different observables). `parameterCategory` is also an integer, which defines the category index in ascending order, i.e. `category 1 < category 2 < ...`. Both are indexed starting with 1. An example how this looks like in detail is provided in the `example_qualitative` folder. Additional examples are provided as supplementary material to [Schmiester et al. (2021)](https://www.biorxiv.org/content/10.1101/2021.02.06.430039v1.abstract)."
   ]
  },
  {
   "cell_type": "markdown",
   "metadata": {},
   "source": [
    "## Import model and create pyPESTO objective"
   ]
  },
  {
   "cell_type": "code",
   "execution_count": 1,
   "metadata": {},
   "outputs": [],
   "source": [
    "import pypesto\n",
    "import pypesto.petab\n",
    "import pypesto.optimize as optimize\n",
    "\n",
    "import amici\n",
    "import petab\n",
    "import numpy as np\n",
    "from pypesto.hierarchical.optimal_scaling_solver import OptimalScalingInnerSolver\n",
    "import pypesto.logging\n",
    "import logging"
   ]
  },
  {
   "cell_type": "code",
   "execution_count": 2,
   "metadata": {
    "scrolled": true
   },
   "outputs": [],
   "source": [
    "petab_folder = './example_qualitative/'\n",
    "yaml_file = 'example_qualitative.yaml'\n",
    "\n",
    "petab_problem = petab.Problem.from_yaml(petab_folder + yaml_file)\n",
    "\n",
    "importer = pypesto.petab.PetabImporter(petab_problem)\n",
    "\n",
    "model = importer.create_model()"
   ]
  },
  {
   "cell_type": "code",
   "execution_count": 3,
   "metadata": {},
   "outputs": [],
   "source": [
    "# To enable the optimal scaling approach for qualitative data, set qualitative=True, when creating the objective\n",
    "\n",
    "objective = importer.create_objective(qualitative=True)\n",
    "problem = importer.create_problem(objective)\n",
    "\n",
    "engine = pypesto.engine.SingleCoreEngine()"
   ]
  },
  {
   "cell_type": "markdown",
   "metadata": {},
   "source": [
    "## Evaluation of the objective function"
   ]
  },
  {
   "cell_type": "markdown",
   "metadata": {},
   "source": [
    "After creating the pyPESTO optimal scaling objective function, it can be called with a parameter vector as input. It will output either the objective function value or additionally the gradient, if it is required."
   ]
  },
  {
   "cell_type": "code",
   "execution_count": 4,
   "metadata": {},
   "outputs": [
    {
     "name": "stdout",
     "output_type": "stream",
     "text": [
      "Objective function value: 0.010643646572165256\n",
      "Objective function and gradient: (0.010643646546700499, array([ 0.        ,  0.        ,  0.02205115, -0.0266729 ,  0.        ,\n",
      "        0.        ,  0.        ,  0.        ,  0.        ,  0.        ,\n",
      "        0.        ,  0.        ,  0.        ,  0.        ,  0.        ,\n",
      "        0.        ]))\n"
     ]
    }
   ],
   "source": [
    "# Evaluation of the objective function without gradients\n",
    "print(f'Objective function value: {objective(petab_problem.x_nominal_scaled)}')\n",
    "\n",
    "# The sensi_orders input can be used to specify, that also gradients need to be computed\n",
    "print(f'Objective function and gradient: {objective(petab_problem.x_nominal_scaled, sensi_orders=(0,1))}')"
   ]
  },
  {
   "cell_type": "markdown",
   "metadata": {},
   "source": [
    "## Run optimization using the optimal scaling approach"
   ]
  },
  {
   "cell_type": "markdown",
   "metadata": {},
   "source": [
    "We test parameter estimation using the Scipy optimizer Powell (gradient-free) and L-BFGS-B (gradient-based). In this example we use multi-start optimization with 10 starts."
   ]
  },
  {
   "cell_type": "code",
   "execution_count": 5,
   "metadata": {},
   "outputs": [],
   "source": [
    "# create a pyPESTO optimizer using the gradient-free Powell algorithm\n",
    "optimizer_gf = optimize.ScipyOptimizer(method='powell',\n",
    "                                   options={'disp': True, 'maxiter': 500, 'maxfev': 500, 'fatol': 1e-10})\n",
    "\n",
    "# create a pyPESTO optimizer using the gradient-based L-BFGS-B algorithm\n",
    "optimizer_gb = optimize.ScipyOptimizer(method='L-BFGS-B',\n",
    "                                   options={'disp': True, 'maxiter': 500, 'maxfev': 500, 'fatol': 1e-10})\n",
    "\n",
    "n_starts = 10"
   ]
  },
  {
   "cell_type": "markdown",
   "metadata": {},
   "source": [
    "The optimal scaling problem can be solved in different ways, which can be chosen in the pyPESTO problem. The different approaches are described in detail in [Schmiester et al. (2020)](https://link.springer.com/article/10.1007/s00285-020-01522-w). The options are:\n",
    "- method:  `standard` / `reduced` (default)\n",
    "- reparameterized: `True` (default) / `False`\n",
    "- intervalConstraints: `max` (default) / `max-min`\n",
    "- minGap: Any float value (default: 1e-10)\n",
    "\n",
    "It is recommended to use the reduced method with reparameterization and `max` interval constraints as it is the most efficient and robust choice ([Schmiester et al. (2020)](https://link.springer.com/article/10.1007/s00285-020-01522-w)), which we will also use here."
   ]
  },
  {
   "cell_type": "markdown",
   "metadata": {},
   "source": [
    "### Run optimization with the gradient-free optimizer"
   ]
  },
  {
   "cell_type": "code",
   "execution_count": 6,
   "metadata": {
    "scrolled": true
   },
   "outputs": [
    {
     "name": "stdout",
     "output_type": "stream",
     "text": [
      "Warning: Maximum number of function evaluations has been exceeded.\n"
     ]
    },
    {
     "name": "stderr",
     "output_type": "stream",
     "text": [
      "Function values from history and optimizer do not match: 0.0005704175003913785, 0.0005735454850299722\n",
      "Parameters obtained from history and optimizer do not match: [6.99038852 5.11924138], [4.99999336 3.1460019 ]\n"
     ]
    },
    {
     "name": "stdout",
     "output_type": "stream",
     "text": [
      "Warning: Maximum number of function evaluations has been exceeded.\n",
      "Warning: Maximum number of function evaluations has been exceeded.\n",
      "Warning: Maximum number of function evaluations has been exceeded.\n"
     ]
    },
    {
     "name": "stderr",
     "output_type": "stream",
     "text": [
      "Function values from history and optimizer do not match: 0.0005700825012818066, 0.0005735454463044645\n",
      "Parameters obtained from history and optimizer do not match: [6.87204882 5.02451076], [4.99999589 3.14606276]\n"
     ]
    },
    {
     "name": "stdout",
     "output_type": "stream",
     "text": [
      "Optimization terminated successfully.\n",
      "         Current function value: 0.000574\n",
      "         Iterations: 6\n",
      "         Function evaluations: 481\n",
      "Warning: Maximum number of function evaluations has been exceeded.\n"
     ]
    },
    {
     "name": "stderr",
     "output_type": "stream",
     "text": [
      "Function values from history and optimizer do not match: 0.0005700601359206306, 0.0005735454651078631\n",
      "Parameters obtained from history and optimizer do not match: [6.67056965 4.82057758], [4.99999699 3.14615276]\n"
     ]
    },
    {
     "name": "stdout",
     "output_type": "stream",
     "text": [
      "Optimization terminated successfully.\n",
      "         Current function value: 0.000574\n",
      "         Iterations: 5\n",
      "         Function evaluations: 371\n"
     ]
    },
    {
     "name": "stderr",
     "output_type": "stream",
     "text": [
      "Function values from history and optimizer do not match: 0.0005799298278070047, 0.0005894352324732224\n",
      "Parameters obtained from history and optimizer do not match: [5.68888335 3.74608907], [5.         3.02892112]\n"
     ]
    },
    {
     "name": "stdout",
     "output_type": "stream",
     "text": [
      "Warning: Maximum number of function evaluations has been exceeded.\n"
     ]
    },
    {
     "name": "stderr",
     "output_type": "stream",
     "text": [
      "Function values from history and optimizer do not match: 0.000573247359443544, 0.0005735514022347194\n",
      "Parameters obtained from history and optimizer do not match: [6.93735232 5.03226437], [4.99999721 3.14386471]\n"
     ]
    },
    {
     "name": "stdout",
     "output_type": "stream",
     "text": [
      "Warning: Maximum number of function evaluations has been exceeded.\n",
      "Optimization terminated successfully.\n",
      "         Current function value: 0.000574\n",
      "         Iterations: 6\n",
      "         Function evaluations: 326\n"
     ]
    }
   ],
   "source": [
    "# Set the options for solving the optimal scaling problem\n",
    "problem.objective.calculator.inner_solver = OptimalScalingInnerSolver(options={'method': 'reduced',\n",
    "                                                                               'reparameterized': True,\n",
    "                                                                               'intervalConstraints': 'max',\n",
    "                                                                               'minGap': 1e-10})\n",
    "# Run optimization with the gradient-free optimizer\n",
    "history_options = pypesto.HistoryOptions(trace_record=True)\n",
    "\n",
    "res_gf = optimize.minimize(problem, n_starts=n_starts, optimizer=optimizer_gf, engine=engine, history_options=history_options)"
   ]
  },
  {
   "cell_type": "markdown",
   "metadata": {},
   "source": [
    "### Run optimization with the gradient-based optimizer"
   ]
  },
  {
   "cell_type": "markdown",
   "metadata": {},
   "source": [
    "Gradients are computed using the semi-analytical algorithm presented in [Schmiester et al. (2021)](https://www.biorxiv.org/content/10.1101/2021.02.06.430039v1.abstract)."
   ]
  },
  {
   "cell_type": "code",
   "execution_count": 7,
   "metadata": {},
   "outputs": [],
   "source": [
    "res_gb = optimize.minimize(problem, n_starts=n_starts, optimizer=optimizer_gb, engine=engine, history_options=history_options)"
   ]
  },
  {
   "cell_type": "markdown",
   "metadata": {},
   "source": [
    "### Compare results"
   ]
  },
  {
   "cell_type": "markdown",
   "metadata": {},
   "source": [
    "Gradient-based optimization leads to improved computation times"
   ]
  },
  {
   "cell_type": "code",
   "execution_count": 8,
   "metadata": {},
   "outputs": [
    {
     "name": "stdout",
     "output_type": "stream",
     "text": [
      "Mean computation time for gradient-free optimizer: 9.340456819534301\n",
      "Mean computation time for gradient-based optimizer: 4.557369327545166\n"
     ]
    }
   ],
   "source": [
    "time_gf = res_gf.optimize_result.get_for_key('time')\n",
    "print(f\"Mean computation time for gradient-free optimizer: {np.mean(time_gf)}\")\n",
    "\n",
    "time_gb = res_gb.optimize_result.get_for_key('time')\n",
    "print(f\"Mean computation time for gradient-based optimizer: {np.mean(time_gb)}\")\n"
   ]
  },
  {
   "cell_type": "markdown",
   "metadata": {},
   "source": [
    "Both optimizers yield the same final objective function values"
   ]
  },
  {
   "cell_type": "code",
   "execution_count": 9,
   "metadata": {},
   "outputs": [
    {
     "data": {
      "text/plain": [
       "<matplotlib.axes._subplots.AxesSubplot at 0x7f3783b86940>"
      ]
     },
     "execution_count": 9,
     "metadata": {},
     "output_type": "execute_result"
    },
    {
     "data": {
      "image/png": "[encoded data removed]",
      "text/plain": [
       "<Figure size 1332x756 with 1 Axes>"
      ]
     },
     "metadata": {
      "needs_background": "light"
     },
     "output_type": "display_data"
    }
   ],
   "source": [
    "from pypesto.visualize import waterfall\n",
    "\n",
    "waterfall([res_gf, res_gb])"
   ]
  },
  {
   "cell_type": "code",
   "execution_count": null,
   "metadata": {},
   "outputs": [],
   "source": []
  }
 ],
 "metadata": {
  "kernelspec": {
   "display_name": "qualitative_gradients",
   "language": "python",
   "name": "qualitative_gradients"
  },
  "language_info": {
   "codemirror_mode": {
    "name": "ipython",
    "version": 3
   },
   "file_extension": ".py",
   "mimetype": "text/x-python",
   "name": "python",
   "nbconvert_exporter": "python",
   "pygments_lexer": "ipython3",
   "version": "3.8.3"
  }
 },
 "nbformat": 4,
 "nbformat_minor": 2
}
